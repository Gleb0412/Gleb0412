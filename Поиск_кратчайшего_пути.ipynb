{
 "cells": [
  {
   "cell_type": "code",
   "execution_count": 1,
   "metadata": {
    "collapsed": false
   },
   "outputs": [],
   "source": [
    "def check_field(f):     #Проверяем правильность задания поля\n",
    "    if len(f)!=10:return 0\n",
    "    exist_x=0\n",
    "    exist_0=0\n",
    "    mess=0\n",
    "    for s in f:\n",
    "        if len(s)!=10:return 0\n",
    "        for c in s:\n",
    "            if c=='x':exist_x=1\n",
    "            if c=='0':exist_0=1\n",
    "            if c not in ('.','#','0','x'):mess=1\n",
    "    if not(exist_x or exist_0) or mess:return 0\n",
    "    return 1\n",
    "\n",
    "def print_field(f):      #Напечатать поле\n",
    "    for s in f:\n",
    "        for c in s:\n",
    "            print(c,' ',end='')\n",
    "        print('')\n",
    "\n",
    "def find_s_f(f,c):       #Найти старт/финиш (№ точки, считая от плевой верхней)\n",
    "    for i in range(10):\n",
    "        if c in f[i]:\n",
    "            start=i*10\n",
    "            break\n",
    "    start=start+f[i].index(c)\n",
    "    return int(start)\n",
    "\n",
    "def find_barriers(f):      #Найти препятствия\n",
    "    bar=[]\n",
    "    for i,s in enumerate(f):\n",
    "        for j,cell in enumerate(s):\n",
    "            if cell=='#':\n",
    "                bar.append(i*10+j)\n",
    "    return bar\n",
    "\n",
    "def neighbors(point):    #Найти соседние точки\n",
    "    n=[]\n",
    "    if point>=10:   #Добавить \"верхнего соседа\", если он есть\n",
    "        n.append(point-10)\n",
    "    if point<=89:   #Добавить \"нижнего соседа\", если он есть\n",
    "        n.append(point+10)\n",
    "    if point not in [i*10 for i in range(10)]: #Добавить \"левого соседа\", если он есть\n",
    "        n.append(point-1)\n",
    "    if point not in [i*10+9 for i in range(10)]: #Добавить \"правого соседа\", если он есть\n",
    "        n.append(point+1)\n",
    "    return n\n",
    "\n",
    "\n",
    "def split_field(f):   #Преобразовать список из 10 строк (задающий поле) в список из 100 символов\n",
    "    s=''.join(field)\n",
    "    s1='-'.join(s)\n",
    "    return s1.split('-')\n",
    "\n",
    "def join_field(f1):   #Преобразовать список из 100 символов в список из 10 строк (задающий поле)\n",
    "    f=[]\n",
    "    f_string=''.join(f1)\n",
    "    for i in range(0,100,10):\n",
    "        s=str(f_string[i:i+10])\n",
    "        f.append(s)\n",
    "    return f"
   ]
  },
  {
   "cell_type": "code",
   "execution_count": 2,
   "metadata": {
    "collapsed": false
   },
   "outputs": [
    {
     "name": "stdout",
     "output_type": "stream",
     "text": [
      "Поле 10x10\n",
      ".  .  .  .  .  .  .  .  .  .  \n",
      ".  .  #  0  #  #  #  #  #  #  \n",
      ".  .  .  #  .  .  .  .  .  .  \n",
      ".  .  .  .  #  .  .  .  .  .  \n",
      ".  .  .  .  .  #  .  .  .  .  \n",
      ".  .  .  .  .  .  .  #  .  .  \n",
      "#  #  #  #  #  #  #  .  .  .  \n",
      ".  .  .  .  .  .  .  .  #  #  \n",
      ".  #  #  #  #  #  #  #  x  .  \n",
      ".  .  .  .  .  .  .  .  .  .  \n",
      "Начальная точка: 13\n",
      "Конечная точка: 88\n",
      "Препятствия:  [12, 14, 15, 16, 17, 18, 19, 23, 34, 45, 57, 60, 61, 62, 63, 64, 65, 66, 78, 79, 81, 82, 83, 84, 85, 86, 87]\n"
     ]
    }
   ],
   "source": [
    "field=['..........',  #Задаем наше поле. '0' - старт, 'х' - финиш, '#' - препятствие, '.' - свободное поле\n",
    "       '..#0######',\n",
    "       '...#......',\n",
    "       '....#.....',\n",
    "       '.....#....',\n",
    "       '.......#..',\n",
    "       '#######...',\n",
    "       '........##',\n",
    "       '.#######x.',\n",
    "       '..........',]\n",
    "        \n",
    "if check_field(field):\n",
    "    print('Поле 10x10')\n",
    "    print_field(field)\n",
    "\n",
    "    start=find_s_f(field,'0')\n",
    "    print('Начальная точка:',start)\n",
    "\n",
    "    finish=find_s_f(field,'x')\n",
    "    print('Конечная точка:',finish)\n",
    "\n",
    "    barriers=find_barriers(field)\n",
    "    print('Препятствия: ', barriers)\n",
    "else:\n",
    "    print('Поле задано неверно')"
   ]
  },
  {
   "cell_type": "code",
   "execution_count": 4,
   "metadata": {
    "collapsed": false
   },
   "outputs": [],
   "source": [
    "frontier = []    #Граница\n",
    "frontier.append(start)\n",
    "\n",
    "came_from = {} #Ключ - номер точки, значение - номер точки, из которой мы пришли в данную точку\n",
    "came_from[start]=None\n",
    "\n",
    "k=0 #Количество пройденных точек при поиске пути\n",
    "\n",
    "while frontier!=[]:\n",
    "    current=frontier.pop(0) #Выбираем первую точку границы, при этом удаляя ее из границы\n",
    "    k=k+1\n",
    "    if current==finish:  #Если попали в конечную точку, заканчиваем поиск\n",
    "        break\n",
    "    for point in neighbors(current):   #Добавляем \"соседей\" рассматриваемой точки в границу, \n",
    "                                       #если они не рассматривались раннее и не являются препятствиями\n",
    "        if (point not in came_from) and (point not in barriers):\n",
    "            frontier.append(point)\n",
    "            came_from[point]=current  #Добавляем очередного соседа в словарь и указываем, что пришли в него из рассматриваемой точки"
   ]
  },
  {
   "cell_type": "code",
   "execution_count": 5,
   "metadata": {
    "collapsed": false
   },
   "outputs": [
    {
     "name": "stdout",
     "output_type": "stream",
     "text": [
      "Кратчайший путь из точки 0 в точку х:\n",
      ".  *  *  *  .  .  .  .  .  .  \n",
      ".  *  #  0  #  #  #  #  #  #  \n",
      ".  *  .  #  .  .  .  .  .  .  \n",
      ".  *  .  .  #  .  .  .  .  .  \n",
      ".  *  .  .  .  #  *  *  *  .  \n",
      ".  *  *  *  *  *  *  #  *  .  \n",
      "#  #  #  #  #  #  #  *  *  .  \n",
      "*  *  *  *  *  *  *  *  #  #  \n",
      "*  #  #  #  #  #  #  #  x  .  \n",
      "*  *  *  *  *  *  *  *  *  .  \n",
      "Количество пройденных точек при поиске пути 71\n"
     ]
    }
   ],
   "source": [
    "current = finish \n",
    "path = [current]      #Путь, т.е. список точек, по которым мы прошли\n",
    "while current != start: #Идем от финиша\n",
    "    current = came_from[current]   #Передаем номер точки, из которой пришли\n",
    "    path.append(current)\n",
    "path.remove(start) \n",
    "path.remove(finish)\n",
    "path.reverse()\n",
    "\n",
    "field1=split_field(field)\n",
    "for i in range(len(field1)):    #Заменяем точки, по которым прошли на '*', чтобы отметить путь\n",
    "    if i in path:\n",
    "        field1[i]='*'\n",
    "print('Кратчайший путь из точки 0 в точку х:')\n",
    "print_field(join_field(field1))\n",
    "print('Количество пройденных точек при поиске пути',k)"
   ]
  },
  {
   "cell_type": "code",
   "execution_count": null,
   "metadata": {
    "collapsed": true
   },
   "outputs": [],
   "source": []
  }
 ],
 "metadata": {
  "kernelspec": {
   "display_name": "Python 3",
   "language": "python",
   "name": "python3"
  },
  "language_info": {
   "codemirror_mode": {
    "name": "ipython",
    "version": 3
   },
   "file_extension": ".py",
   "mimetype": "text/x-python",
   "name": "python",
   "nbconvert_exporter": "python",
   "pygments_lexer": "ipython3",
   "version": "3.5.1"
  }
 },
 "nbformat": 4,
 "nbformat_minor": 0
}
